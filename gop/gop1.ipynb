{
 "cells": [
  {
   "cell_type": "code",
   "execution_count": 1,
   "metadata": {},
   "outputs": [],
   "source": [
    "import pandas as pd\n",
    "from gop import *"
   ]
  },
  {
   "cell_type": "code",
   "execution_count": 2,
   "metadata": {},
   "outputs": [
    {
     "name": "stdout",
     "output_type": "stream",
     "text": [
      "1.1.3\n"
     ]
    }
   ],
   "source": [
    "print(pd.__version__)"
   ]
  },
  {
   "cell_type": "code",
   "execution_count": 3,
   "metadata": {},
   "outputs": [
    {
     "data": {
      "text/plain": [
       "array(['trans_manual', 'trans_zero', 'trans_reff_complete', 'labels',\n",
       "       'trans_auto'], dtype=object)"
      ]
     },
     "execution_count": 3,
     "metadata": {},
     "output_type": "execute_result"
    }
   ],
   "source": [
    "df_trans = pd.read_pickle('trans.pickle')\n",
    "df_trans"
   ]
  },
  {
   "cell_type": "code",
   "execution_count": 4,
   "metadata": {},
   "outputs": [
    {
     "data": {
      "text/html": [
       "<div>\n",
       "<style scoped>\n",
       "    .dataframe tbody tr th:only-of-type {\n",
       "        vertical-align: middle;\n",
       "    }\n",
       "\n",
       "    .dataframe tbody tr th {\n",
       "        vertical-align: top;\n",
       "    }\n",
       "\n",
       "    .dataframe thead th {\n",
       "        text-align: right;\n",
       "    }\n",
       "</style>\n",
       "<table border=\"1\" class=\"dataframe\">\n",
       "  <thead>\n",
       "    <tr style=\"text-align: right;\">\n",
       "      <th></th>\n",
       "      <th>phone</th>\n",
       "      <th>phone_name</th>\n",
       "      <th>transition_state</th>\n",
       "      <th>hmm_state</th>\n",
       "      <th>pdf</th>\n",
       "      <th>phone_pure</th>\n",
       "      <th>phone_pure_name</th>\n",
       "    </tr>\n",
       "  </thead>\n",
       "  <tbody>\n",
       "    <tr>\n",
       "      <th>0</th>\n",
       "      <td>15</td>\n",
       "      <td>AA0_B</td>\n",
       "      <td>263</td>\n",
       "      <td>0</td>\n",
       "      <td>2</td>\n",
       "      <td>3</td>\n",
       "      <td>AA</td>\n",
       "    </tr>\n",
       "    <tr>\n",
       "      <th>1</th>\n",
       "      <td>15</td>\n",
       "      <td>AA0_B</td>\n",
       "      <td>264</td>\n",
       "      <td>0</td>\n",
       "      <td>225</td>\n",
       "      <td>3</td>\n",
       "      <td>AA</td>\n",
       "    </tr>\n",
       "    <tr>\n",
       "      <th>2</th>\n",
       "      <td>15</td>\n",
       "      <td>AA0_B</td>\n",
       "      <td>265</td>\n",
       "      <td>0</td>\n",
       "      <td>225</td>\n",
       "      <td>3</td>\n",
       "      <td>AA</td>\n",
       "    </tr>\n",
       "    <tr>\n",
       "      <th>3</th>\n",
       "      <td>15</td>\n",
       "      <td>AA0_B</td>\n",
       "      <td>266</td>\n",
       "      <td>0</td>\n",
       "      <td>225</td>\n",
       "      <td>3</td>\n",
       "      <td>AA</td>\n",
       "    </tr>\n",
       "    <tr>\n",
       "      <th>4</th>\n",
       "      <td>15</td>\n",
       "      <td>AA0_B</td>\n",
       "      <td>267</td>\n",
       "      <td>0</td>\n",
       "      <td>225</td>\n",
       "      <td>3</td>\n",
       "      <td>AA</td>\n",
       "    </tr>\n",
       "    <tr>\n",
       "      <th>...</th>\n",
       "      <td>...</td>\n",
       "      <td>...</td>\n",
       "      <td>...</td>\n",
       "      <td>...</td>\n",
       "      <td>...</td>\n",
       "      <td>...</td>\n",
       "      <td>...</td>\n",
       "    </tr>\n",
       "    <tr>\n",
       "      <th>21990</th>\n",
       "      <td>342</td>\n",
       "      <td>Z_S</td>\n",
       "      <td>21933</td>\n",
       "      <td>0</td>\n",
       "      <td>5996</td>\n",
       "      <td>40</td>\n",
       "      <td>Z</td>\n",
       "    </tr>\n",
       "    <tr>\n",
       "      <th>21991</th>\n",
       "      <td>342</td>\n",
       "      <td>Z_S</td>\n",
       "      <td>21934</td>\n",
       "      <td>0</td>\n",
       "      <td>5996</td>\n",
       "      <td>40</td>\n",
       "      <td>Z</td>\n",
       "    </tr>\n",
       "    <tr>\n",
       "      <th>21992</th>\n",
       "      <td>342</td>\n",
       "      <td>Z_S</td>\n",
       "      <td>21935</td>\n",
       "      <td>0</td>\n",
       "      <td>5996</td>\n",
       "      <td>40</td>\n",
       "      <td>Z</td>\n",
       "    </tr>\n",
       "    <tr>\n",
       "      <th>21993</th>\n",
       "      <td>342</td>\n",
       "      <td>Z_S</td>\n",
       "      <td>21936</td>\n",
       "      <td>0</td>\n",
       "      <td>5996</td>\n",
       "      <td>40</td>\n",
       "      <td>Z</td>\n",
       "    </tr>\n",
       "    <tr>\n",
       "      <th>21994</th>\n",
       "      <td>342</td>\n",
       "      <td>Z_S</td>\n",
       "      <td>21937</td>\n",
       "      <td>0</td>\n",
       "      <td>5996</td>\n",
       "      <td>40</td>\n",
       "      <td>Z</td>\n",
       "    </tr>\n",
       "  </tbody>\n",
       "</table>\n",
       "<p>21995 rows × 7 columns</p>\n",
       "</div>"
      ],
      "text/plain": [
       "      phone phone_name transition_state hmm_state   pdf phone_pure  \\\n",
       "0        15      AA0_B              263         0     2          3   \n",
       "1        15      AA0_B              264         0   225          3   \n",
       "2        15      AA0_B              265         0   225          3   \n",
       "3        15      AA0_B              266         0   225          3   \n",
       "4        15      AA0_B              267         0   225          3   \n",
       "...     ...        ...              ...       ...   ...        ...   \n",
       "21990   342        Z_S            21933         0  5996         40   \n",
       "21991   342        Z_S            21934         0  5996         40   \n",
       "21992   342        Z_S            21935         0  5996         40   \n",
       "21993   342        Z_S            21936         0  5996         40   \n",
       "21994   342        Z_S            21937         0  5996         40   \n",
       "\n",
       "      phone_pure_name  \n",
       "0                  AA  \n",
       "1                  AA  \n",
       "2                  AA  \n",
       "3                  AA  \n",
       "4                  AA  \n",
       "...               ...  \n",
       "21990               Z  \n",
       "21991               Z  \n",
       "21992               Z  \n",
       "21993               Z  \n",
       "21994               Z  \n",
       "\n",
       "[21995 rows x 7 columns]"
      ]
     },
     "execution_count": 4,
     "metadata": {},
     "output_type": "execute_result"
    }
   ],
   "source": [
    "df_phones_pure = pd.read_pickle('phones_pure_libri.pickle')\n",
    "df_phones_pure = df_phones_pure.reset_index()\n",
    "df_phones_pure"
   ]
  },
  {
   "cell_type": "code",
   "execution_count": 5,
   "metadata": {},
   "outputs": [
    {
     "data": {
      "text/plain": [
       "array(['phones', 'phones_names', 'align_transitions', 'target',\n",
       "       'target_base'], dtype=object)"
      ]
     },
     "execution_count": 5,
     "metadata": {},
     "output_type": "execute_result"
    }
   ],
   "source": [
    "df_target = pd.read_pickle('target_epa.pickle')\n",
    "df_target"
   ]
  },
  {
   "cell_type": "code",
   "execution_count": 6,
   "metadata": {},
   "outputs": [
    {
     "ename": "UnpicklingError",
     "evalue": "invalid load key, '\\x00'.",
     "output_type": "error",
     "traceback": [
      "\u001b[0;31m---------------------------------------------------------------------------\u001b[0m",
      "\u001b[0;31mUnpicklingError\u001b[0m                           Traceback (most recent call last)",
      "\u001b[0;32m<ipython-input-6-30b68b25cdb6>\u001b[0m in \u001b[0;36m<module>\u001b[0;34m\u001b[0m\n\u001b[0;32m----> 1\u001b[0;31m \u001b[0mdf_labels\u001b[0m \u001b[0;34m=\u001b[0m \u001b[0mpd\u001b[0m\u001b[0;34m.\u001b[0m\u001b[0mread_pickle\u001b[0m\u001b[0;34m(\u001b[0m\u001b[0;34m'labels_epa.pickle'\u001b[0m\u001b[0;34m)\u001b[0m\u001b[0;34m\u001b[0m\u001b[0;34m\u001b[0m\u001b[0m\n\u001b[0m\u001b[1;32m      2\u001b[0m \u001b[0mdf_labels\u001b[0m\u001b[0;34m\u001b[0m\u001b[0;34m\u001b[0m\u001b[0m\n",
      "\u001b[0;32m~/anaconda3/lib/python3.7/site-packages/pandas/io/pickle.py\u001b[0m in \u001b[0;36mread_pickle\u001b[0;34m(filepath_or_buffer, compression)\u001b[0m\n\u001b[1;32m    180\u001b[0m                 \u001b[0;31m# We want to silence any warnings about, e.g. moved modules.\u001b[0m\u001b[0;34m\u001b[0m\u001b[0;34m\u001b[0m\u001b[0;34m\u001b[0m\u001b[0m\n\u001b[1;32m    181\u001b[0m                 \u001b[0mwarnings\u001b[0m\u001b[0;34m.\u001b[0m\u001b[0msimplefilter\u001b[0m\u001b[0;34m(\u001b[0m\u001b[0;34m\"ignore\"\u001b[0m\u001b[0;34m,\u001b[0m \u001b[0mWarning\u001b[0m\u001b[0;34m)\u001b[0m\u001b[0;34m\u001b[0m\u001b[0;34m\u001b[0m\u001b[0m\n\u001b[0;32m--> 182\u001b[0;31m                 \u001b[0;32mreturn\u001b[0m \u001b[0mpickle\u001b[0m\u001b[0;34m.\u001b[0m\u001b[0mload\u001b[0m\u001b[0;34m(\u001b[0m\u001b[0mf\u001b[0m\u001b[0;34m)\u001b[0m\u001b[0;34m\u001b[0m\u001b[0;34m\u001b[0m\u001b[0m\n\u001b[0m\u001b[1;32m    183\u001b[0m         \u001b[0;32mexcept\u001b[0m \u001b[0mexcs_to_catch\u001b[0m\u001b[0;34m:\u001b[0m\u001b[0;34m\u001b[0m\u001b[0;34m\u001b[0m\u001b[0m\n\u001b[1;32m    184\u001b[0m             \u001b[0;31m# e.g.\u001b[0m\u001b[0;34m\u001b[0m\u001b[0;34m\u001b[0m\u001b[0;34m\u001b[0m\u001b[0m\n",
      "\u001b[0;31mUnpicklingError\u001b[0m: invalid load key, '\\x00'."
     ]
    }
   ],
   "source": [
    "df_labels = pd.read_pickle('labels_epa.pickle')\n",
    "df_labels"
   ]
  },
  {
   "cell_type": "code",
   "execution_count": 8,
   "metadata": {},
   "outputs": [
    {
     "data": {
      "text/plain": [
       "[[array([1., 0., 0., ..., 0., 0., 0.]),\n",
       "  array([0., 1., 0., ..., 0., 0., 0.]),\n",
       "  array([0., 0., 1., ..., 0., 0., 0.]),\n",
       "  array([0., 0., 0., ..., 0., 0., 0.]),\n",
       "  array([0., 0., 0., ..., 0., 0., 0.]),\n",
       "  array([0., 0., 0., ..., 0., 0., 0.]),\n",
       "  array([0., 0., 0., ..., 0., 0., 0.]),\n",
       "  array([0., 0., 0., ..., 0., 0., 0.]),\n",
       "  array([0., 0., 0., ..., 0., 0., 0.]),\n",
       "  array([0., 0., 0., ..., 0., 0., 0.]),\n",
       "  array([0., 0., 0., ..., 0., 0., 0.]),\n",
       "  array([0., 0., 0., ..., 0., 0., 0.]),\n",
       "  array([0., 0., 0., ..., 0., 0., 0.]),\n",
       "  array([0., 0., 0., ..., 0., 0., 0.]),\n",
       "  array([0., 0., 0., ..., 0., 0., 0.]),\n",
       "  array([0., 0., 0., ..., 0., 0., 0.]),\n",
       "  array([0., 0., 0., ..., 0., 0., 0.]),\n",
       "  array([0., 0., 0., ..., 0., 0., 0.]),\n",
       "  array([0., 0., 0., ..., 0., 0., 0.]),\n",
       "  array([0., 0., 0., ..., 0., 0., 0.]),\n",
       "  array([0., 0., 0., ..., 0., 0., 0.]),\n",
       "  array([0., 0., 0., ..., 0., 0., 0.]),\n",
       "  array([0., 0., 0., ..., 0., 0., 0.]),\n",
       "  array([0., 0., 0., ..., 0., 0., 0.]),\n",
       "  array([0., 0., 0., ..., 0., 0., 0.]),\n",
       "  array([0., 0., 0., ..., 0., 0., 0.]),\n",
       "  array([0., 0., 0., ..., 0., 0., 0.]),\n",
       "  array([0., 0., 0., ..., 0., 0., 0.]),\n",
       "  array([0., 0., 0., ..., 0., 1., 1.]),\n",
       "  array([0., 0., 0., ..., 0., 0., 0.]),\n",
       "  array([0., 0., 0., ..., 0., 0., 0.]),\n",
       "  array([0., 0., 0., ..., 0., 0., 0.]),\n",
       "  array([0., 0., 0., ..., 0., 0., 0.]),\n",
       "  array([0., 0., 0., ..., 0., 0., 0.]),\n",
       "  array([0., 0., 0., ..., 0., 0., 0.]),\n",
       "  array([0., 0., 0., ..., 0., 0., 0.]),\n",
       "  array([0., 0., 0., ..., 0., 0., 0.]),\n",
       "  array([0., 0., 0., ..., 1., 0., 0.]),\n",
       "  array([0., 0., 0., ..., 0., 0., 0.]),\n",
       "  array([0., 0., 0., ..., 0., 0., 0.]),\n",
       "  array([0., 0., 0., ..., 0., 0., 0.])]]"
      ]
     },
     "execution_count": 8,
     "metadata": {},
     "output_type": "execute_result"
    }
   ],
   "source": [
    "matrix_gop_robust(df_phones_pure, 6024,1)"
   ]
  },
  {
   "cell_type": "code",
   "execution_count": 19,
   "metadata": {},
   "outputs": [
    {
     "name": "stdout",
     "output_type": "stream",
     "text": [
      "['SIL', 'AY1_S', 'TH_B', 'IH1_I', 'NG_I', 'K_E', 'SIL', 'DH_B', 'AH0_E', 'SH_B', 'IH1_I', 'P_E', 'SIL', 'W_B', 'IH1_I', 'L_E', 'SIL', 'S_B', 'IH1_I', 'NG_I', 'K_E', 'SIL']\n",
      "[[2, 1, 1, 1, 1, 1, 1, 1, 1, 1, 1, 1, 1, 1, 1, 1, 1, 1, 1, 1, 1, 1, 1, 1, 1, 1, 1, 1, 1, 1, 1, 1, 1, 1, 1, 1, 1, 1, 1, 1, 1, 1, 1, 1, 1, 1, 1, 1, 1, 1, 1, 1, 1, 1, 1, 1, 1, 1, 1, 1, 1, 1, 1, 1, 1, 1, 1, 1, 1, 1, 1, 1, 1, 1, 1, 1, 1, 1, 1, 1, 1, 1, 1, 1, 1, 1, 1, 1, 1, 1], [11802, 11801, 11801, 11801, 11801, 11801, 11801, 11801, 11801, 11801, 11801, 11801], [38146, 38145, 38145, 38145, 38145, 38145, 38145, 38145, 38145, 38145, 38145, 38145, 38145, 38145], [24460, 24459, 24459, 24459, 24459, 24459, 24459], [31744, 31743, 31743, 31743, 31743, 31743], [28262, 28261, 28261, 28261, 28261, 28261, 28261, 28261, 28261, 28261, 28261], [2, 1, 1, 1, 1, 1, 1, 1, 1, 1], [14148, 14147, 14147, 14147, 14147], [5944, 5943, 5943, 5943, 5943], [36646, 36645, 36645, 36645, 36645, 36645, 36645, 36645, 36645, 36645, 36645, 36645, 36645], [24532, 24531, 24531, 24531, 24531, 24531, 24531, 24531, 24531], [34668, 34667, 34667, 34667, 34667, 34667, 34667, 34667, 34667, 34667], [2, 1, 1, 1, 1, 1, 1, 1, 1, 1], [42076, 42075, 42075, 42075, 42075, 42075, 42075, 42075, 42075, 42075, 42075, 42075], [24396, 24395, 24395, 24395, 24395], [29202, 29201, 29201, 29201, 29201, 29201, 29201, 29201], [2, 1], [35794, 35793, 35793, 35793, 35793, 35793, 35793, 35793, 35793, 35793, 35793, 35793, 35793], [24424, 24423, 24423, 24423, 24423, 24423, 24423], [31744, 31743, 31743, 31743, 31743, 31743], [28262, 28261, 28261, 28261, 28261, 28261, 28261, 28261, 28261, 28261, 28261, 28261, 28261, 28261, 28261]]\n"
     ]
    },
    {
     "data": {
      "text/html": [
       "<div>\n",
       "<style scoped>\n",
       "    .dataframe tbody tr th:only-of-type {\n",
       "        vertical-align: middle;\n",
       "    }\n",
       "\n",
       "    .dataframe tbody tr th {\n",
       "        vertical-align: top;\n",
       "    }\n",
       "\n",
       "    .dataframe thead th {\n",
       "        text-align: right;\n",
       "    }\n",
       "</style>\n",
       "<table border=\"1\" class=\"dataframe\">\n",
       "  <thead>\n",
       "    <tr style=\"text-align: right;\">\n",
       "      <th></th>\n",
       "      <th>logid</th>\n",
       "      <th>p</th>\n",
       "      <th>transitions</th>\n",
       "      <th>phones</th>\n",
       "    </tr>\n",
       "  </thead>\n",
       "  <tbody>\n",
       "    <tr>\n",
       "      <th>0</th>\n",
       "      <td>spkr109_10</td>\n",
       "      <td>[[-0.24202293, -0.46676305, -0.34699762, -0.63...</td>\n",
       "      <td>[[2, 1, 1, 1, 1, 1, 1, 1, 1, 1, 1, 1, 1, 1, 1,...</td>\n",
       "      <td>[SIL, AY1_S, TH_B, IH1_I, NG_I, K_E, SIL, DH_B...</td>\n",
       "    </tr>\n",
       "  </tbody>\n",
       "</table>\n",
       "</div>"
      ],
      "text/plain": [
       "        logid                                                  p  \\\n",
       "0  spkr109_10  [[-0.24202293, -0.46676305, -0.34699762, -0.63...   \n",
       "\n",
       "                                         transitions  \\\n",
       "0  [[2, 1, 1, 1, 1, 1, 1, 1, 1, 1, 1, 1, 1, 1, 1,...   \n",
       "\n",
       "                                              phones  \n",
       "0  [SIL, AY1_S, TH_B, IH1_I, NG_I, K_E, SIL, DH_B...  "
      ]
     },
     "execution_count": 19,
     "metadata": {},
     "output_type": "execute_result"
    }
   ],
   "source": [
    "loglikes = pd.read_pickle('loglikes.pickle')\n",
    "loglikes = np.array(loglikes)\n",
    "alignments = pd.read_pickle('alignments.pickle')\n",
    "alignments = alignments['spkr109_10']\n",
    "df_scores = pd.DataFrame({'logid': ['spkr109_10'], \n",
    "                          'p': [loglikes], \n",
    "                          'transitions': [alignments['transitions']],\n",
    "                          'phones': [alignments['phones']]})\n",
    "phones = df_scores['phones']\n",
    "transitions = df_scores['transitions']\n",
    "print(phones[0])\n",
    "print(transitions[0])\n",
    "df_scores\n"
   ]
  },
  {
   "cell_type": "code",
   "execution_count": 10,
   "metadata": {},
   "outputs": [
    {
     "name": "stdout",
     "output_type": "stream",
     "text": [
      "1\n",
      "['SIL', 'AY1_S', 'TH_B', 'IH1_I', 'NG_I', 'K_E', 'SIL', 'DH_B', 'AH0_E', 'SH_B', 'IH1_I', 'P_E', 'SIL', 'W_B', 'IH1_I', 'L_E', 'SIL', 'S_B', 'IH1_I', 'NG_I', 'K_E', 'SIL']\n",
      "['SIL', 'AY1_S', 'TH_B', 'IH1_I', 'NG_I', 'K_E', 'SIL', 'DH_B', 'AH0_E', 'SH_B', 'IH1_I', 'P_E', 'SIL', 'W_B', 'IH1_I', 'L_E', 'SIL', 'S_B', 'IH1_I', 'NG_I', 'K_E', 'SIL']\n"
     ]
    },
    {
     "name": "stderr",
     "output_type": "stream",
     "text": [
      "/home/marcelo/epa-gop-pykaldi/gop/gop.py:60: RuntimeWarning: invalid value encountered in log\n",
      "  lpp = (sum(np.log(scores_phone_pure[j][ti:tf+1])))/(tf-ti+1)\n"
     ]
    },
    {
     "ename": "IndexError",
     "evalue": "list index out of range",
     "output_type": "error",
     "traceback": [
      "\u001b[0;31m---------------------------------------------------------------------------\u001b[0m",
      "\u001b[0;31mIndexError\u001b[0m                                Traceback (most recent call last)",
      "\u001b[0;32m<ipython-input-10-8a2df63da5fd>\u001b[0m in \u001b[0;36m<module>\u001b[0;34m\u001b[0m\n\u001b[0;32m----> 1\u001b[0;31m \u001b[0mgop_robust_with_matrix\u001b[0m\u001b[0;34m(\u001b[0m\u001b[0mdf_scores\u001b[0m\u001b[0;34m,\u001b[0m \u001b[0mdf_phones_pure\u001b[0m\u001b[0;34m,\u001b[0m \u001b[0;36m6024\u001b[0m\u001b[0;34m,\u001b[0m \u001b[0;36m1\u001b[0m\u001b[0;34m,\u001b[0m \u001b[0;34m[\u001b[0m\u001b[0;34m]\u001b[0m\u001b[0;34m,\u001b[0m \u001b[0;34m[\u001b[0m\u001b[0;34m]\u001b[0m\u001b[0;34m)\u001b[0m\u001b[0;34m\u001b[0m\u001b[0;34m\u001b[0m\u001b[0m\n\u001b[0m",
      "\u001b[0;32m~/epa-gop-pykaldi/gop/gop.py\u001b[0m in \u001b[0;36mgop_robust_with_matrix\u001b[0;34m(df_scores, df_phones_pure, number_senones, batch_size, output_gop_r, output_gop_r_max)\u001b[0m\n\u001b[1;32m     62\u001b[0m             \u001b[0mprint\u001b[0m\u001b[0;34m(\u001b[0m\u001b[0mphones\u001b[0m\u001b[0;34m)\u001b[0m\u001b[0;34m\u001b[0m\u001b[0;34m\u001b[0m\u001b[0m\n\u001b[1;32m     63\u001b[0m \u001b[0;34m\u001b[0m\u001b[0m\n\u001b[0;32m---> 64\u001b[0;31m             \u001b[0mphone_pure\u001b[0m \u001b[0;34m=\u001b[0m \u001b[0mdf_phones_pure\u001b[0m\u001b[0;34m.\u001b[0m\u001b[0mloc\u001b[0m\u001b[0;34m[\u001b[0m\u001b[0;34m(\u001b[0m\u001b[0mdf_phones_pure\u001b[0m\u001b[0;34m[\u001b[0m\u001b[0;34m'phone_name'\u001b[0m\u001b[0;34m]\u001b[0m \u001b[0;34m==\u001b[0m \u001b[0mstr\u001b[0m\u001b[0;34m(\u001b[0m\u001b[0mphones\u001b[0m\u001b[0;34m[\u001b[0m\u001b[0mti\u001b[0m\u001b[0;34m]\u001b[0m\u001b[0;34m)\u001b[0m \u001b[0;34m)\u001b[0m\u001b[0;34m]\u001b[0m\u001b[0;34m.\u001b[0m\u001b[0mphone_pure\u001b[0m\u001b[0;34m.\u001b[0m\u001b[0munique\u001b[0m\u001b[0;34m(\u001b[0m\u001b[0;34m)\u001b[0m\u001b[0;34m[\u001b[0m\u001b[0;36m0\u001b[0m\u001b[0;34m]\u001b[0m\u001b[0;34m\u001b[0m\u001b[0;34m\u001b[0m\u001b[0m\n\u001b[0m\u001b[1;32m     65\u001b[0m             \u001b[0mgop_r_max\u001b[0m \u001b[0;34m=\u001b[0m \u001b[0mlpp\u001b[0m\u001b[0;34m[\u001b[0m\u001b[0mint\u001b[0m\u001b[0;34m(\u001b[0m\u001b[0mphone_pure\u001b[0m\u001b[0;34m)\u001b[0m\u001b[0;34m-\u001b[0m\u001b[0;36m1\u001b[0m\u001b[0;34m]\u001b[0m \u001b[0;34m-\u001b[0m \u001b[0mmax\u001b[0m\u001b[0;34m(\u001b[0m\u001b[0mlpp\u001b[0m\u001b[0;34m)\u001b[0m\u001b[0;34m\u001b[0m\u001b[0;34m\u001b[0m\u001b[0m\n\u001b[1;32m     66\u001b[0m             \u001b[0mgop_r\u001b[0m \u001b[0;34m=\u001b[0m \u001b[0mlpp\u001b[0m\u001b[0;34m[\u001b[0m\u001b[0mint\u001b[0m\u001b[0;34m(\u001b[0m\u001b[0mphone_pure\u001b[0m\u001b[0;34m)\u001b[0m\u001b[0;34m-\u001b[0m\u001b[0;36m1\u001b[0m\u001b[0;34m]\u001b[0m\u001b[0;34m\u001b[0m\u001b[0;34m\u001b[0m\u001b[0m\n",
      "\u001b[0;31mIndexError\u001b[0m: list index out of range"
     ]
    }
   ],
   "source": [
    "gop_robust_with_matrix(df_scores, df_phones_pure, 6024, 1, [], [])"
   ]
  },
  {
   "cell_type": "code",
   "execution_count": null,
   "metadata": {},
   "outputs": [],
   "source": []
  },
  {
   "cell_type": "code",
   "execution_count": null,
   "metadata": {},
   "outputs": [],
   "source": []
  },
  {
   "cell_type": "code",
   "execution_count": null,
   "metadata": {},
   "outputs": [],
   "source": []
  }
 ],
 "metadata": {
  "kernelspec": {
   "display_name": "Python 3",
   "language": "python",
   "name": "python3"
  }
 },
 "nbformat": 4,
 "nbformat_minor": 4
}
